{
 "cells": [
  {
   "cell_type": "code",
   "execution_count": 11,
   "id": "3d805634-b6e3-47fc-8799-1184f27a49de",
   "metadata": {},
   "outputs": [],
   "source": [
    "import pandas as pd\n",
    "import numpy as np\n",
    "import matplotlib.pyplot as plt\n"
   ]
  },
  {
   "cell_type": "code",
   "execution_count": 2,
   "id": "396ae612-fad8-4c0e-82a5-fca1086e7bbe",
   "metadata": {},
   "outputs": [
    {
     "name": "stdout",
     "output_type": "stream",
     "text": [
      "C:\\Users\\Tom\\git\n"
     ]
    }
   ],
   "source": [
    "%cd .."
   ]
  },
  {
   "cell_type": "code",
   "execution_count": 3,
   "id": "321fc1d3-1b50-4854-a4a8-47517753a9a0",
   "metadata": {},
   "outputs": [
    {
     "name": "stdout",
     "output_type": "stream",
     "text": [
      "C:\\Users\\Tom\n"
     ]
    }
   ],
   "source": [
    "%cd .."
   ]
  },
  {
   "cell_type": "code",
   "execution_count": 4,
   "id": "77826e26-acd4-4655-aacf-b7172a34f11a",
   "metadata": {},
   "outputs": [
    {
     "name": "stdout",
     "output_type": "stream",
     "text": [
      "C:\\Users\\Tom\\hackathon\n"
     ]
    }
   ],
   "source": [
    "%cd hackathon"
   ]
  },
  {
   "cell_type": "code",
   "execution_count": 12,
   "id": "c63c74cf-375a-4a31-a470-da50cc061b75",
   "metadata": {},
   "outputs": [
    {
     "name": "stdout",
     "output_type": "stream",
     "text": [
      "                               first use  number of use\n",
      "discoverymethod                                        \n",
      "Astrometry                          2013              3\n",
      "Disk Kinematics                     2019              1\n",
      "Eclipse Timing Variations           2009             23\n",
      "Imaging                             2004            131\n",
      "Microlensing                        2004            617\n",
      "Orbital Brightness Modulation       2011             20\n",
      "Pulsar Timing                       1992             12\n",
      "Pulsation Timing Variations         2007              2\n",
      "Radial Velocity                     1995           2465\n",
      "Transit                             2002          31710\n",
      "Transit Timing Variations           2011            131\n"
     ]
    },
    {
     "data": {
      "image/png": "[encoded data removed]",
      "text/plain": [
       "<Figure size 640x480 with 1 Axes>"
      ]
     },
     "metadata": {},
     "output_type": "display_data"
    }
   ],
   "source": [
    "import pandas as pd\n",
    "import matplotlib.pyplot as plt\n",
    "\n",
    "def load_data(filename):\n",
    "    df = pd.read_csv(filename,sep=',',header=96)\n",
    "    df = df.rename(columns={\"foo\": \"bar\"})\n",
    "    return df\n",
    "\n",
    "\n",
    "df= load_data('exoplanete.csv') #whole dataframe\n",
    "\n",
    "nod = df.groupby(['disc_year']).count()['pl_name'] #number of discoveries, year by year\n",
    "nod.plot.bar()\n",
    "\n",
    "yofu = df[[\"disc_year\",\"discoverymethod\"]].groupby(\"discoverymethod\").min() #year of first use, method by method\n",
    "nou = df[[\"pl_name\",\"discoverymethod\"]].groupby(\"discoverymethod\").count() #number of use, method by method\n",
    "\n",
    "methods = pd.merge(left=yofu,left_index=True,right=nou,right_index=True)\n",
    "methods.columns = ['first use','number of use']\n",
    "print(methods)"
   ]
  },
  {
   "cell_type": "code",
   "execution_count": 5,
   "id": "98c0b2fc-37fd-41cb-96cc-4bcbb3329b7b",
   "metadata": {},
   "outputs": [
    {
     "data": {
      "text/html": [
       "<div>\n",
       "<style scoped>\n",
       "    .dataframe tbody tr th:only-of-type {\n",
       "        vertical-align: middle;\n",
       "    }\n",
       "\n",
       "    .dataframe tbody tr th {\n",
       "        vertical-align: top;\n",
       "    }\n",
       "\n",
       "    .dataframe thead th {\n",
       "        text-align: right;\n",
       "    }\n",
       "</style>\n",
       "<table border=\"1\" class=\"dataframe\">\n",
       "  <thead>\n",
       "    <tr style=\"text-align: right;\">\n",
       "      <th></th>\n",
       "      <th>pl_name</th>\n",
       "      <th>hostname</th>\n",
       "      <th>default_flag</th>\n",
       "      <th>sy_snum</th>\n",
       "      <th>sy_pnum</th>\n",
       "      <th>discoverymethod</th>\n",
       "      <th>disc_year</th>\n",
       "      <th>disc_facility</th>\n",
       "      <th>soltype</th>\n",
       "      <th>pl_controv_flag</th>\n",
       "      <th>...</th>\n",
       "      <th>sy_vmagerr2</th>\n",
       "      <th>sy_kmag</th>\n",
       "      <th>sy_kmagerr1</th>\n",
       "      <th>sy_kmagerr2</th>\n",
       "      <th>sy_gaiamag</th>\n",
       "      <th>sy_gaiamagerr1</th>\n",
       "      <th>sy_gaiamagerr2</th>\n",
       "      <th>rowupdate</th>\n",
       "      <th>pl_pubdate</th>\n",
       "      <th>releasedate</th>\n",
       "    </tr>\n",
       "  </thead>\n",
       "  <tbody>\n",
       "    <tr>\n",
       "      <th>0</th>\n",
       "      <td>11 Com b</td>\n",
       "      <td>11 Com</td>\n",
       "      <td>0</td>\n",
       "      <td>2</td>\n",
       "      <td>1</td>\n",
       "      <td>Radial Velocity</td>\n",
       "      <td>2007</td>\n",
       "      <td>Xinglong Station</td>\n",
       "      <td>Published Confirmed</td>\n",
       "      <td>0</td>\n",
       "      <td>...</td>\n",
       "      <td>-0.023</td>\n",
       "      <td>2.282</td>\n",
       "      <td>0.346</td>\n",
       "      <td>-0.346</td>\n",
       "      <td>4.44038</td>\n",
       "      <td>0.003848</td>\n",
       "      <td>-0.003848</td>\n",
       "      <td>2014-07-23</td>\n",
       "      <td>2011-08</td>\n",
       "      <td>2014-07-23</td>\n",
       "    </tr>\n",
       "    <tr>\n",
       "      <th>1</th>\n",
       "      <td>11 Com b</td>\n",
       "      <td>11 Com</td>\n",
       "      <td>0</td>\n",
       "      <td>2</td>\n",
       "      <td>1</td>\n",
       "      <td>Radial Velocity</td>\n",
       "      <td>2007</td>\n",
       "      <td>Xinglong Station</td>\n",
       "      <td>Published Confirmed</td>\n",
       "      <td>0</td>\n",
       "      <td>...</td>\n",
       "      <td>-0.023</td>\n",
       "      <td>2.282</td>\n",
       "      <td>0.346</td>\n",
       "      <td>-0.346</td>\n",
       "      <td>4.44038</td>\n",
       "      <td>0.003848</td>\n",
       "      <td>-0.003848</td>\n",
       "      <td>2014-05-14</td>\n",
       "      <td>2008-01</td>\n",
       "      <td>2014-05-14</td>\n",
       "    </tr>\n",
       "    <tr>\n",
       "      <th>2</th>\n",
       "      <td>11 Com b</td>\n",
       "      <td>11 Com</td>\n",
       "      <td>1</td>\n",
       "      <td>2</td>\n",
       "      <td>1</td>\n",
       "      <td>Radial Velocity</td>\n",
       "      <td>2007</td>\n",
       "      <td>Xinglong Station</td>\n",
       "      <td>Published Confirmed</td>\n",
       "      <td>0</td>\n",
       "      <td>...</td>\n",
       "      <td>-0.023</td>\n",
       "      <td>2.282</td>\n",
       "      <td>0.346</td>\n",
       "      <td>-0.346</td>\n",
       "      <td>4.44038</td>\n",
       "      <td>0.003848</td>\n",
       "      <td>-0.003848</td>\n",
       "      <td>2023-09-19</td>\n",
       "      <td>2023-08</td>\n",
       "      <td>2023-09-19</td>\n",
       "    </tr>\n",
       "    <tr>\n",
       "      <th>3</th>\n",
       "      <td>11 UMi b</td>\n",
       "      <td>11 UMi</td>\n",
       "      <td>1</td>\n",
       "      <td>1</td>\n",
       "      <td>1</td>\n",
       "      <td>Radial Velocity</td>\n",
       "      <td>2009</td>\n",
       "      <td>Thueringer Landessternwarte Tautenburg</td>\n",
       "      <td>Published Confirmed</td>\n",
       "      <td>0</td>\n",
       "      <td>...</td>\n",
       "      <td>-0.005</td>\n",
       "      <td>1.939</td>\n",
       "      <td>0.270</td>\n",
       "      <td>-0.270</td>\n",
       "      <td>4.56216</td>\n",
       "      <td>0.003903</td>\n",
       "      <td>-0.003903</td>\n",
       "      <td>2018-09-04</td>\n",
       "      <td>2017-03</td>\n",
       "      <td>2018-09-06</td>\n",
       "    </tr>\n",
       "    <tr>\n",
       "      <th>4</th>\n",
       "      <td>11 UMi b</td>\n",
       "      <td>11 UMi</td>\n",
       "      <td>0</td>\n",
       "      <td>1</td>\n",
       "      <td>1</td>\n",
       "      <td>Radial Velocity</td>\n",
       "      <td>2009</td>\n",
       "      <td>Thueringer Landessternwarte Tautenburg</td>\n",
       "      <td>Published Confirmed</td>\n",
       "      <td>0</td>\n",
       "      <td>...</td>\n",
       "      <td>-0.005</td>\n",
       "      <td>1.939</td>\n",
       "      <td>0.270</td>\n",
       "      <td>-0.270</td>\n",
       "      <td>4.56216</td>\n",
       "      <td>0.003903</td>\n",
       "      <td>-0.003903</td>\n",
       "      <td>2018-04-25</td>\n",
       "      <td>2011-08</td>\n",
       "      <td>2014-07-23</td>\n",
       "    </tr>\n",
       "    <tr>\n",
       "      <th>...</th>\n",
       "      <td>...</td>\n",
       "      <td>...</td>\n",
       "      <td>...</td>\n",
       "      <td>...</td>\n",
       "      <td>...</td>\n",
       "      <td>...</td>\n",
       "      <td>...</td>\n",
       "      <td>...</td>\n",
       "      <td>...</td>\n",
       "      <td>...</td>\n",
       "      <td>...</td>\n",
       "      <td>...</td>\n",
       "      <td>...</td>\n",
       "      <td>...</td>\n",
       "      <td>...</td>\n",
       "      <td>...</td>\n",
       "      <td>...</td>\n",
       "      <td>...</td>\n",
       "      <td>...</td>\n",
       "      <td>...</td>\n",
       "      <td>...</td>\n",
       "    </tr>\n",
       "    <tr>\n",
       "      <th>35110</th>\n",
       "      <td>ups And d</td>\n",
       "      <td>ups And</td>\n",
       "      <td>0</td>\n",
       "      <td>2</td>\n",
       "      <td>3</td>\n",
       "      <td>Radial Velocity</td>\n",
       "      <td>1999</td>\n",
       "      <td>Multiple Observatories</td>\n",
       "      <td>Published Confirmed</td>\n",
       "      <td>0</td>\n",
       "      <td>...</td>\n",
       "      <td>-0.023</td>\n",
       "      <td>2.859</td>\n",
       "      <td>0.274</td>\n",
       "      <td>-0.274</td>\n",
       "      <td>3.98687</td>\n",
       "      <td>0.008937</td>\n",
       "      <td>-0.008937</td>\n",
       "      <td>2014-08-21</td>\n",
       "      <td>2004-01</td>\n",
       "      <td>2014-08-21</td>\n",
       "    </tr>\n",
       "    <tr>\n",
       "      <th>35111</th>\n",
       "      <td>ups Leo b</td>\n",
       "      <td>ups Leo</td>\n",
       "      <td>1</td>\n",
       "      <td>1</td>\n",
       "      <td>1</td>\n",
       "      <td>Radial Velocity</td>\n",
       "      <td>2021</td>\n",
       "      <td>Okayama Astrophysical Observatory</td>\n",
       "      <td>Published Confirmed</td>\n",
       "      <td>0</td>\n",
       "      <td>...</td>\n",
       "      <td>-0.023</td>\n",
       "      <td>2.184</td>\n",
       "      <td>0.248</td>\n",
       "      <td>-0.248</td>\n",
       "      <td>4.03040</td>\n",
       "      <td>0.008513</td>\n",
       "      <td>-0.008513</td>\n",
       "      <td>2022-01-10</td>\n",
       "      <td>2021-12</td>\n",
       "      <td>2022-01-10</td>\n",
       "    </tr>\n",
       "    <tr>\n",
       "      <th>35112</th>\n",
       "      <td>xi Aql b</td>\n",
       "      <td>xi Aql</td>\n",
       "      <td>0</td>\n",
       "      <td>1</td>\n",
       "      <td>1</td>\n",
       "      <td>Radial Velocity</td>\n",
       "      <td>2007</td>\n",
       "      <td>Okayama Astrophysical Observatory</td>\n",
       "      <td>Published Confirmed</td>\n",
       "      <td>0</td>\n",
       "      <td>...</td>\n",
       "      <td>-0.023</td>\n",
       "      <td>2.171</td>\n",
       "      <td>0.220</td>\n",
       "      <td>-0.220</td>\n",
       "      <td>4.42501</td>\n",
       "      <td>0.003837</td>\n",
       "      <td>-0.003837</td>\n",
       "      <td>2014-07-23</td>\n",
       "      <td>2011-08</td>\n",
       "      <td>2014-07-23</td>\n",
       "    </tr>\n",
       "    <tr>\n",
       "      <th>35113</th>\n",
       "      <td>xi Aql b</td>\n",
       "      <td>xi Aql</td>\n",
       "      <td>0</td>\n",
       "      <td>1</td>\n",
       "      <td>1</td>\n",
       "      <td>Radial Velocity</td>\n",
       "      <td>2007</td>\n",
       "      <td>Okayama Astrophysical Observatory</td>\n",
       "      <td>Published Confirmed</td>\n",
       "      <td>0</td>\n",
       "      <td>...</td>\n",
       "      <td>-0.023</td>\n",
       "      <td>2.171</td>\n",
       "      <td>0.220</td>\n",
       "      <td>-0.220</td>\n",
       "      <td>4.42501</td>\n",
       "      <td>0.003837</td>\n",
       "      <td>-0.003837</td>\n",
       "      <td>2014-05-14</td>\n",
       "      <td>2008-06</td>\n",
       "      <td>2014-05-14</td>\n",
       "    </tr>\n",
       "    <tr>\n",
       "      <th>35114</th>\n",
       "      <td>xi Aql b</td>\n",
       "      <td>xi Aql</td>\n",
       "      <td>1</td>\n",
       "      <td>1</td>\n",
       "      <td>1</td>\n",
       "      <td>Radial Velocity</td>\n",
       "      <td>2007</td>\n",
       "      <td>Okayama Astrophysical Observatory</td>\n",
       "      <td>Published Confirmed</td>\n",
       "      <td>0</td>\n",
       "      <td>...</td>\n",
       "      <td>-0.023</td>\n",
       "      <td>2.171</td>\n",
       "      <td>0.220</td>\n",
       "      <td>-0.220</td>\n",
       "      <td>4.42501</td>\n",
       "      <td>0.003837</td>\n",
       "      <td>-0.003837</td>\n",
       "      <td>2023-09-19</td>\n",
       "      <td>2023-08</td>\n",
       "      <td>2023-09-19</td>\n",
       "    </tr>\n",
       "  </tbody>\n",
       "</table>\n",
       "<p>35115 rows × 92 columns</p>\n",
       "</div>"
      ],
      "text/plain": [
       "         pl_name hostname  default_flag  sy_snum  sy_pnum  discoverymethod  \\\n",
       "0       11 Com b   11 Com             0        2        1  Radial Velocity   \n",
       "1       11 Com b   11 Com             0        2        1  Radial Velocity   \n",
       "2       11 Com b   11 Com             1        2        1  Radial Velocity   \n",
       "3       11 UMi b   11 UMi             1        1        1  Radial Velocity   \n",
       "4       11 UMi b   11 UMi             0        1        1  Radial Velocity   \n",
       "...          ...      ...           ...      ...      ...              ...   \n",
       "35110  ups And d  ups And             0        2        3  Radial Velocity   \n",
       "35111  ups Leo b  ups Leo             1        1        1  Radial Velocity   \n",
       "35112   xi Aql b   xi Aql             0        1        1  Radial Velocity   \n",
       "35113   xi Aql b   xi Aql             0        1        1  Radial Velocity   \n",
       "35114   xi Aql b   xi Aql             1        1        1  Radial Velocity   \n",
       "\n",
       "       disc_year                           disc_facility              soltype  \\\n",
       "0           2007                        Xinglong Station  Published Confirmed   \n",
       "1           2007                        Xinglong Station  Published Confirmed   \n",
       "2           2007                        Xinglong Station  Published Confirmed   \n",
       "3           2009  Thueringer Landessternwarte Tautenburg  Published Confirmed   \n",
       "4           2009  Thueringer Landessternwarte Tautenburg  Published Confirmed   \n",
       "...          ...                                     ...                  ...   \n",
       "35110       1999                  Multiple Observatories  Published Confirmed   \n",
       "35111       2021       Okayama Astrophysical Observatory  Published Confirmed   \n",
       "35112       2007       Okayama Astrophysical Observatory  Published Confirmed   \n",
       "35113       2007       Okayama Astrophysical Observatory  Published Confirmed   \n",
       "35114       2007       Okayama Astrophysical Observatory  Published Confirmed   \n",
       "\n",
       "       pl_controv_flag  ... sy_vmagerr2  sy_kmag  sy_kmagerr1  sy_kmagerr2  \\\n",
       "0                    0  ...      -0.023    2.282        0.346       -0.346   \n",
       "1                    0  ...      -0.023    2.282        0.346       -0.346   \n",
       "2                    0  ...      -0.023    2.282        0.346       -0.346   \n",
       "3                    0  ...      -0.005    1.939        0.270       -0.270   \n",
       "4                    0  ...      -0.005    1.939        0.270       -0.270   \n",
       "...                ...  ...         ...      ...          ...          ...   \n",
       "35110                0  ...      -0.023    2.859        0.274       -0.274   \n",
       "35111                0  ...      -0.023    2.184        0.248       -0.248   \n",
       "35112                0  ...      -0.023    2.171        0.220       -0.220   \n",
       "35113                0  ...      -0.023    2.171        0.220       -0.220   \n",
       "35114                0  ...      -0.023    2.171        0.220       -0.220   \n",
       "\n",
       "       sy_gaiamag  sy_gaiamagerr1  sy_gaiamagerr2   rowupdate  pl_pubdate  \\\n",
       "0         4.44038        0.003848       -0.003848  2014-07-23     2011-08   \n",
       "1         4.44038        0.003848       -0.003848  2014-05-14     2008-01   \n",
       "2         4.44038        0.003848       -0.003848  2023-09-19     2023-08   \n",
       "3         4.56216        0.003903       -0.003903  2018-09-04     2017-03   \n",
       "4         4.56216        0.003903       -0.003903  2018-04-25     2011-08   \n",
       "...           ...             ...             ...         ...         ...   \n",
       "35110     3.98687        0.008937       -0.008937  2014-08-21     2004-01   \n",
       "35111     4.03040        0.008513       -0.008513  2022-01-10     2021-12   \n",
       "35112     4.42501        0.003837       -0.003837  2014-07-23     2011-08   \n",
       "35113     4.42501        0.003837       -0.003837  2014-05-14     2008-06   \n",
       "35114     4.42501        0.003837       -0.003837  2023-09-19     2023-08   \n",
       "\n",
       "       releasedate  \n",
       "0       2014-07-23  \n",
       "1       2014-05-14  \n",
       "2       2023-09-19  \n",
       "3       2018-09-06  \n",
       "4       2014-07-23  \n",
       "...            ...  \n",
       "35110   2014-08-21  \n",
       "35111   2022-01-10  \n",
       "35112   2014-07-23  \n",
       "35113   2014-05-14  \n",
       "35114   2023-09-19  \n",
       "\n",
       "[35115 rows x 92 columns]"
      ]
     },
     "execution_count": 5,
     "metadata": {},
     "output_type": "execute_result"
    }
   ],
   "source": [
    "df = pd.read_csv('exoplanete.csv',sep=',',header=96)\n",
    "df"
   ]
  },
  {
   "cell_type": "code",
   "execution_count": 6,
   "id": "4c76c589-1ad7-46ea-b0e1-a31eebea0d89",
   "metadata": {},
   "outputs": [
    {
     "data": {
      "text/plain": [
       "sy_snum\n",
       "1    32535\n",
       "2     2297\n",
       "3      279\n",
       "4        4\n",
       "Name: pl_name, dtype: int64"
      ]
     },
     "execution_count": 6,
     "metadata": {},
     "output_type": "execute_result"
    }
   ],
   "source": [
    "df2=df.groupby(by=\"sy_snum\").count()\n",
    "df3=df2[\"pl_name\"]\n",
    "df3"
   ]
  },
  {
   "cell_type": "code",
   "execution_count": 7,
   "id": "13702190-7172-4b2e-8690-c38b2d66c552",
   "metadata": {},
   "outputs": [
    {
     "data": {
      "text/plain": [
       "<Axes: title={'center': \"Répartition du nombre d'étoiles\"}, xlabel='sy_snum'>"
      ]
     },
     "execution_count": 7,
     "metadata": {},
     "output_type": "execute_result"
    },
    {
     "data": {
      "image/png": "[encoded data removed]",
      "text/plain": [
       "<Figure size 640x480 with 1 Axes>"
      ]
     },
     "metadata": {},
     "output_type": "display_data"
    }
   ],
   "source": [
    "df3.plot.bar(title=\"Répartition du nombre d'étoiles\")\n",
    "\n",
    "# sy_snum désigne le nombre détoiles associées à la planète"
   ]
  },
  {
   "cell_type": "code",
   "execution_count": 8,
   "id": "7b6988d1-c547-4028-9070-727a455ea971",
   "metadata": {},
   "outputs": [
    {
     "data": {
      "text/plain": [
       "0        2.60\n",
       "1        2.70\n",
       "2        2.09\n",
       "3        2.78\n",
       "4        1.70\n",
       "         ... \n",
       "35110     NaN\n",
       "35111    1.48\n",
       "35112    1.40\n",
       "35113    2.20\n",
       "35114    1.74\n",
       "Name: st_mass, Length: 35115, dtype: float64"
      ]
     },
     "execution_count": 8,
     "metadata": {},
     "output_type": "execute_result"
    }
   ],
   "source": [
    "masse=df['st_mass']\n",
    "masse\n",
    "# on extrait la colonne des masses planétaires "
   ]
  },
  {
   "cell_type": "code",
   "execution_count": 9,
   "id": "3af1c413-ac7b-493f-909e-ff573d3b6f72",
   "metadata": {},
   "outputs": [
    {
     "data": {
      "text/plain": [
       "23.56"
      ]
     },
     "execution_count": 9,
     "metadata": {},
     "output_type": "execute_result"
    }
   ],
   "source": [
    "masse.max()"
   ]
  },
  {
   "cell_type": "code",
   "execution_count": 9,
   "id": "680ea47d-dee0-4d9a-9391-b44494860223",
   "metadata": {},
   "outputs": [
    {
     "data": {
      "text/plain": [
       "<Axes: title={'center': 'Répartition massique des exoplanètes en fonction de leur encadrement en solar mass'}>"
      ]
     },
     "execution_count": 9,
     "metadata": {},
     "output_type": "execute_result"
    },
    {
     "data": {
      "image/png": "[encoded data removed]",
      "text/plain": [
       "<Figure size 640x480 with 1 Axes>"
      ]
     },
     "metadata": {},
     "output_type": "display_data"
    }
   ],
   "source": [
    "m1=(df['st_mass'] < 0.01) & (df['st_mass']>=0)\n",
    "m2=(df['st_mass'] < 0.1) & (df['st_mass']>=0.01)\n",
    "m3=(df['st_mass'] < 1) & (df['st_mass']>=0.1)\n",
    "m4=(df['st_mass'] < 5) & (df['st_mass']>=1)\n",
    "m5=(df['st_mass'] < 30) & (df['st_mass']>=5)\n",
    "masses=pd.DataFrame({\"nombre d'exoplanètes\":[m1.sum(),m2.sum(),m3.sum(),m4.sum(),m5.sum()]},index=[\"0 - 0.01\",\"0.01 - 0.1\",\"0.1 - 1\",\"1 - 5\",\"5 - 30\"])\n",
    "masses.plot.bar(title=\"Répartition massique des exoplanètes en fonction de leur encadrement en solar mass\")\n",
    "\n",
    "# en abscisse, les valeurs sont en pourcentage de masse du Soleil*100"
   ]
  },
  {
   "cell_type": "code",
   "execution_count": null,
   "id": "7cff9dfc-f32b-4050-a86b-6c714ef5ad96",
   "metadata": {},
   "outputs": [],
   "source": [
    "dfo = pd.read_csv('PS_2023.10.31_06.09.13.csv', sep = ',', header = 96)"
   ]
  },
  {
   "cell_type": "code",
   "execution_count": null,
   "id": "94910cc0",
   "metadata": {},
   "outputs": [],
   "source": [
    "dfo1 = pd.read_csv('PS_2023.10.31_06.09.13.csv', sep = ':',header = 2, nrows = 92,names = [''])"
   ]
  },
  {
   "cell_type": "code",
   "execution_count": null,
   "id": "96fba0a8-e80a-4498-8ea2-7fd2146f62c2",
   "metadata": {},
   "outputs": [],
   "source": [
    "dfo.columns = dfo1['']\n",
    "dfo.columns = dfo.columns.str.lstrip()"
   ]
  },
  {
   "cell_type": "code",
   "execution_count": null,
   "id": "d382f283",
   "metadata": {},
   "outputs": [],
   "source": [
    "dfdate = pd.to_datetime(df['Date of Last Update'])\n",
    "dfo['Date of Last Update'] = dfdate\n",
    "dfo.sort_values('Date of Last Update')\n",
    "dfo = dfo.drop_duplicates (subset = 'Planet Name', keep = 'last')"
   ]
  },
  {
   "cell_type": "code",
   "execution_count": null,
   "id": "3268771d-4dfd-4ca2-81bc-bb3bbb940f15",
   "metadata": {},
   "outputs": [],
   "source": [
    "df2o = dfo[['Planet Name', 'Distance [pc]','Discovery Year','Stellar Effective Temperature [K]','Equilibrium Temperature [K]','Insolation Flux [Earth Flux]','Stellar Radius [Solar Radius]']]\n",
    "df2o = df2o[~df2o['Distance [pc]'].isna()]\n",
    "df2o = df2o.sort_values(['Distance [pc]'])\n",
    "df2o = df2o.reset_index(drop = True)\n",
    "df2o['x'] = df2o.index\n",
    "df2o"
   ]
  },
  {
   "cell_type": "code",
   "execution_count": null,
   "id": "81748b2a-9a78-4475-82c3-16b76bb88ea9",
   "metadata": {},
   "outputs": [],
   "source": [
    "df2o.plot(kind='scatter', x='Discovery Year', y='Distance [pc]')"
   ]
  },
  {
   "cell_type": "code",
   "execution_count": null,
   "id": "74abfe22-8060-41f8-be0d-a56ac3b4253f",
   "metadata": {},
   "outputs": [],
   "source": [
    "df3o = df2o[~df2o['Stellar Effective Temperature [K]'].isna()]"
   ]
  },
  {
   "cell_type": "code",
   "execution_count": null,
   "id": "f003e829-8f7c-4fb4-a972-aa4a03df71d7",
   "metadata": {},
   "outputs": [],
   "source": [
    "df3o.plot(kind='scatter', x='Distance [pc]', y='Stellar Effective Temperature [K]', xlim=(0,2500), ylim = (0,12000))"
   ]
  },
  {
   "cell_type": "code",
   "execution_count": null,
   "id": "95563947-44bb-4d2e-b7bb-e92d3446b0eb",
   "metadata": {},
   "outputs": [],
   "source": [
    "df4o = df2o[~df2o['Equilibrium Temperature [K]'].isna()]"
   ]
  },
  {
   "cell_type": "code",
   "execution_count": null,
   "id": "6af8e156-9085-4a2e-8f99-b07ee979388e",
   "metadata": {},
   "outputs": [],
   "source": [
    "df4o.plot(kind='scatter', y='Insolation Flux [Earth Flux]', x='Equilibrium Temperature [K]', xlim = (0,3000), ylim = (0,2000))"
   ]
  }
 ],
 "metadata": {
  "kernelspec": {
   "display_name": "Python 3 (ipykernel)",
   "language": "python",
   "name": "python3"
  },
  "language_info": {
   "codemirror_mode": {
    "name": "ipython",
    "version": 3
   },
   "file_extension": ".py",
   "mimetype": "text/x-python",
   "name": "python",
   "nbconvert_exporter": "python",
   "pygments_lexer": "ipython3",
   "version": "3.11.4"
  }
 },
 "nbformat": 4,
 "nbformat_minor": 5
}
